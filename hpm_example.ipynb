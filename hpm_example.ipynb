{
 "cells": [
  {
   "cell_type": "code",
   "execution_count": 1,
   "metadata": {
    "collapsed": false
   },
   "outputs": [
    {
     "name": "stdout",
     "output_type": "stream",
     "text": [
      "Using matplotlib backend: Qt5Agg\n"
     ]
    }
   ],
   "source": [
    "%matplotlib \n",
    "import networkx as nx\n",
    "import matplotlib.pyplot as plt\n",
    "import numpy as np\n",
    "import collections\n",
    "import hpm"
   ]
  },
  {
   "cell_type": "code",
   "execution_count": 2,
   "metadata": {},
   "outputs": [],
   "source": [
    "# Generate the network\n",
    "N = 1000       # Number of nodes\n",
    "e_k = 3.15     # Desired expected degree \n",
    "omega = 2.5    # Desired exponent\n",
    "\n",
    "G = hpm.generate_network(N=N, e_k=3.15, omega=2.5)"
   ]
  },
  {
   "cell_type": "code",
   "execution_count": 3,
   "metadata": {},
   "outputs": [
    {
     "name": "stdout",
     "output_type": "stream",
     "text": [
      "3.124\n"
     ]
    }
   ],
   "source": [
    "# Check if expected degree matches expectations.\n",
    "# Please remember that this is a stochastic method\n",
    "# Won't be exact and will be different every time unless you fix random seed\n",
    "degrees = G.degree()\n",
    "print(sum(degrees.values()) / N)"
   ]
  },
  {
   "cell_type": "code",
   "execution_count": 4,
   "metadata": {
    "collapsed": false
   },
   "outputs": [
    {
     "name": "stderr",
     "output_type": "stream",
     "text": [
      "D:\\Base\\Anaconda3\\lib\\site-packages\\ipykernel_launcher.py:8: RuntimeWarning: divide by zero encountered in log\n  \n"
     ]
    }
   ],
   "source": [
    "# plot histogram to see if it is indeed power law\n",
    "degree_sequence = sorted(nx.degree(G).values(), reverse=True)  \n",
    "\n",
    "degreeCount = collections.Counter(degree_sequence)\n",
    "deg, cnt = zip(*degreeCount.items())\n",
    "\n",
    "fig, ax = plt.subplots()\n",
    "plt.scatter(np.log(deg), np.log(cnt), color='b', )\n",
    "#ax.set_yscale('log')\n",
    "#ax.set_xscale('log')\n",
    "plt.title(\"Degree Histogram\")\n",
    "plt.ylabel(\"Count (log)\")\n",
    "plt.xlabel(\"Degree (log)\")\n",
    "plt.show()"
   ]
  }
 ],
 "metadata": {
  "kernelspec": {
   "display_name": "Python 3",
   "language": "python",
   "name": "python3"
  },
  "language_info": {
   "codemirror_mode": {
    "name": "ipython",
    "version": 3
   },
   "file_extension": ".py",
   "mimetype": "text/x-python",
   "name": "python",
   "nbconvert_exporter": "python",
   "pygments_lexer": "ipython3",
   "version": "3.5.1"
  }
 },
 "nbformat": 4,
 "nbformat_minor": 0
}
